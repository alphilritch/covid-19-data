{
 "cells": [
  {
   "cell_type": "code",
   "execution_count": 18,
   "metadata": {},
   "outputs": [
    {
     "data": {
      "text/plain": [
       "'/Users/alphilritch/covid-19-data'"
      ]
     },
     "execution_count": 18,
     "metadata": {},
     "output_type": "execute_result"
    }
   ],
   "source": [
    "import pandas as pd\n",
    "import numpy as np\n",
    "import os\n",
    "import matplotlib.pyplot as plt\n",
    "current_path = os.getcwd()\n",
    "current_path"
   ]
  },
  {
   "cell_type": "code",
   "execution_count": 19,
   "metadata": {},
   "outputs": [
    {
     "name": "stdout",
     "output_type": "stream",
     "text": [
      "             date          state  fips   cases  deaths\n",
      "0      2020-01-21     Washington    53       1       0\n",
      "1      2020-01-22     Washington    53       1       0\n",
      "2      2020-01-23     Washington    53       1       0\n",
      "3      2020-01-24       Illinois    17       1       0\n",
      "4      2020-01-24     Washington    53       1       0\n",
      "...           ...            ...   ...     ...     ...\n",
      "23439  2021-05-02       Virginia    51  661314   10791\n",
      "23440  2021-05-02     Washington    53  406659    5547\n",
      "23441  2021-05-02  West Virginia    54  153918    2686\n",
      "23442  2021-05-02      Wisconsin    55  661890    7567\n",
      "23443  2021-05-02        Wyoming    56   58142     707\n",
      "\n",
      "[23444 rows x 5 columns]\n"
     ]
    }
   ],
   "source": [
    "data = pd.read_csv('us-states.csv')\n",
    "print(data)"
   ]
  },
  {
   "cell_type": "code",
   "execution_count": 65,
   "metadata": {},
   "outputs": [
    {
     "name": "stdout",
     "output_type": "stream",
     "text": [
      "             date          state  fips   cases  deaths\n",
      "0      2020-01-21     Washington    53       1       0\n",
      "1      2020-01-22     Washington    53       1       0\n",
      "2      2020-01-23     Washington    53       1       0\n",
      "3      2020-01-24       Illinois    17       1       0\n",
      "4      2020-01-24     Washington    53       1       0\n",
      "...           ...            ...   ...     ...     ...\n",
      "23439  2021-05-02       Virginia    51  661314   10791\n",
      "23440  2021-05-02     Washington    53  406659    5547\n",
      "23441  2021-05-02  West Virginia    54  153918    2686\n",
      "23442  2021-05-02      Wisconsin    55  661890    7567\n",
      "23443  2021-05-02        Wyoming    56   58142     707\n",
      "\n",
      "[23444 rows x 5 columns]\n"
     ]
    }
   ],
   "source": [
    "df = pd.DataFrame(pd.read_csv(\"us-states.csv\"))\n",
    "print(df)"
   ]
  },
  {
   "cell_type": "code",
   "execution_count": 80,
   "metadata": {},
   "outputs": [
    {
     "name": "stdout",
     "output_type": "stream",
     "text": [
      "             date    state  fips  cases  deaths  dif_cases  dif_deaths  \\\n",
      "586    2020-03-13  Alabama     1      6       0        NaN         NaN   \n",
      "637    2020-03-14  Alabama     1     12       0        6.0         0.0   \n",
      "689    2020-03-15  Alabama     1     23       0       11.0         0.0   \n",
      "742    2020-03-16  Alabama     1     29       0        6.0         0.0   \n",
      "795    2020-03-17  Alabama     1     39       0       10.0         0.0   \n",
      "...           ...      ...   ...    ...     ...        ...         ...   \n",
      "23223  2021-04-28  Wyoming    56  57999     707      116.0         0.0   \n",
      "23278  2021-04-29  Wyoming    56  58069     707       70.0         0.0   \n",
      "23333  2021-04-30  Wyoming    56  58142     707       73.0         0.0   \n",
      "23388  2021-05-01  Wyoming    56  58142     707        0.0         0.0   \n",
      "23443  2021-05-02  Wyoming    56  58142     707        0.0         0.0   \n",
      "\n",
      "       fatality_rate  \n",
      "586         0.000000  \n",
      "637         0.000000  \n",
      "689         0.000000  \n",
      "742         0.000000  \n",
      "795         0.000000  \n",
      "...              ...  \n",
      "23223       0.012190  \n",
      "23278       0.012175  \n",
      "23333       0.012160  \n",
      "23388       0.012160  \n",
      "23443       0.012160  \n",
      "\n",
      "[23444 rows x 8 columns]\n"
     ]
    }
   ],
   "source": [
    "df.sort_values(by = ['state', 'date'], ascending = True, inplace = True)\n",
    "df['dif_cases'] = df['cases'] - df['cases'].shift(1)\n",
    "df['dif_deaths'] = df['deaths'] - df['deaths'].shift(1)\n",
    "df['fatality_rate'] = df['deaths'] / df['cases']\n",
    "print(df)"
   ]
  },
  {
   "cell_type": "code",
   "execution_count": 84,
   "metadata": {},
   "outputs": [
    {
     "name": "stdout",
     "output_type": "stream",
     "text": [
      "             date                     state  fips    cases  deaths  dif_cases  \\\n",
      "23390  2021-05-02                    Alaska     2    67598     330        0.0   \n",
      "23436  2021-05-02                      Utah    49   398077    2204      279.0   \n",
      "23438  2021-05-02            Virgin Islands    78     3138      27       13.0   \n",
      "23437  2021-05-02                   Vermont    50    23126     247       94.0   \n",
      "23417  2021-05-02                  Nebraska    31   220127    2366       95.0   \n",
      "23402  2021-05-02                     Idaho    16   187728    2048        0.0   \n",
      "23442  2021-05-02                 Wisconsin    55   661890    7567      476.0   \n",
      "23425  2021-05-02  Northern Mariana Islands    69      168       2        0.0   \n",
      "23443  2021-05-02                   Wyoming    56    58142     707        0.0   \n",
      "23394  2021-05-02                  Colorado     8   516337    6438     1212.0   \n",
      "23413  2021-05-02                 Minnesota    27   579328    7253     1711.0   \n",
      "23409  2021-05-02                     Maine    23    61847     789      231.0   \n",
      "23423  2021-05-02            North Carolina    37   976985   12677        0.0   \n",
      "23428  2021-05-02                    Oregon    41   186344    2516      723.0   \n",
      "23440  2021-05-02                Washington    53   406659    5547      113.0   \n",
      "23419  2021-05-02             New Hampshire    33    95377    1305      214.0   \n",
      "23430  2021-05-02               Puerto Rico    72   166193    2313      622.0   \n",
      "23424  2021-05-02              North Dakota    38   107739    1525       69.0   \n",
      "23416  2021-05-02                   Montana    30   109106    1574       45.0   \n",
      "23434  2021-05-02                 Tennessee    47   832935   12100       29.0   \n",
      "23401  2021-05-02                    Hawaii    15    32989     480      107.0   \n",
      "23407  2021-05-02                  Kentucky    21   448339    6634      313.0   \n",
      "23427  2021-05-02                  Oklahoma    40   448305    6788        0.0   \n",
      "23400  2021-05-02                      Guam    66     8944     137        0.0   \n",
      "23415  2021-05-02                  Missouri    29   602390    9253      605.0   \n",
      "23396  2021-05-02                  Delaware    10   104909    1626      288.0   \n",
      "23398  2021-05-02                   Florida    12  2242770   35267     3841.0   \n",
      "23433  2021-05-02              South Dakota    46   122660    1967        0.0   \n",
      "23406  2021-05-02                    Kansas    20   311218    5025        5.0   \n",
      "23405  2021-05-02                      Iowa    19   365519    5959      291.0   \n",
      "23439  2021-05-02                  Virginia    51   661314   10791      761.0   \n",
      "23432  2021-05-02            South Carolina    45   580273    9520      717.0   \n",
      "23393  2021-05-02                California     6  3745021   61895     1384.0   \n",
      "23392  2021-05-02                  Arkansas     5   335968    5741        0.0   \n",
      "23418  2021-05-02                    Nevada    32   315438    5464        0.0   \n",
      "23435  2021-05-02                     Texas    48  2897234   50473     1203.0   \n",
      "23441  2021-05-02             West Virginia    54   153918    2686      420.0   \n",
      "23426  2021-05-02                      Ohio    39  1075004   19284      985.0   \n",
      "23431  2021-05-02              Rhode Island    44   148186    2671        0.0   \n",
      "23403  2021-05-02                  Illinois    17  1343273   24358     1780.0   \n",
      "23399  2021-05-02                   Georgia    13  1078321   19586     1274.0   \n",
      "23404  2021-05-02                   Indiana    18   725964   13349     1069.0   \n",
      "23410  2021-05-02                  Maryland    24   449180    8776      651.0   \n",
      "23391  2021-05-02                   Arizona     4   863927   17344      356.0   \n",
      "23412  2021-05-02                  Michigan    26   939387   18883       53.0   \n",
      "23421  2021-05-02                New Mexico    35   197733    4069        0.0   \n",
      "23389  2021-05-02                   Alabama     1   528597   10913      288.0   \n",
      "23408  2021-05-02                 Louisiana    22   458581   10382        0.0   \n",
      "23429  2021-05-02              Pennsylvania    42  1161184   26327     2220.0   \n",
      "23414  2021-05-02               Mississippi    28   311900    7199        0.0   \n",
      "23397  2021-05-02      District of Columbia    11    47855    1106       55.0   \n",
      "23395  2021-05-02               Connecticut     9   339233    8097        0.0   \n",
      "23422  2021-05-02                  New York    36  2053027   51830     2853.0   \n",
      "23411  2021-05-02             Massachusetts    25   691172   17621      893.0   \n",
      "23420  2021-05-02                New Jersey    34  1000009   25600     1198.0   \n",
      "\n",
      "       dif_deaths  fatality_rate  \n",
      "23390         0.0       0.004882  \n",
      "23436         1.0       0.005537  \n",
      "23438         0.0       0.008604  \n",
      "23437         0.0       0.010681  \n",
      "23417         0.0       0.010748  \n",
      "23402         0.0       0.010909  \n",
      "23442        -2.0       0.011432  \n",
      "23425         0.0       0.011905  \n",
      "23443         0.0       0.012160  \n",
      "23394         4.0       0.012469  \n",
      "23413         6.0       0.012520  \n",
      "23409         0.0       0.012757  \n",
      "23423         0.0       0.012976  \n",
      "23428         2.0       0.013502  \n",
      "23440         0.0       0.013640  \n",
      "23419         1.0       0.013683  \n",
      "23430         3.0       0.013918  \n",
      "23424         0.0       0.014155  \n",
      "23416         0.0       0.014426  \n",
      "23434         0.0       0.014527  \n",
      "23401         0.0       0.014550  \n",
      "23407         3.0       0.014797  \n",
      "23427         0.0       0.015141  \n",
      "23400         0.0       0.015318  \n",
      "23415         3.0       0.015360  \n",
      "23396         0.0       0.015499  \n",
      "23398        29.0       0.015725  \n",
      "23433         0.0       0.016036  \n",
      "23406         0.0       0.016146  \n",
      "23405         7.0       0.016303  \n",
      "23439        14.0       0.016318  \n",
      "23432        14.0       0.016406  \n",
      "23393        60.0       0.016527  \n",
      "23392         0.0       0.017088  \n",
      "23418         0.0       0.017322  \n",
      "23435        15.0       0.017421  \n",
      "23441         7.0       0.017451  \n",
      "23426         0.0       0.017939  \n",
      "23431         0.0       0.018025  \n",
      "23403        28.0       0.018133  \n",
      "23399         0.0       0.018163  \n",
      "23404        11.0       0.018388  \n",
      "23410        12.0       0.019538  \n",
      "23391         6.0       0.020076  \n",
      "23412         0.0       0.020101  \n",
      "23421         0.0       0.020578  \n",
      "23389         0.0       0.020645  \n",
      "23408         0.0       0.022639  \n",
      "23429        20.0       0.022673  \n",
      "23414         0.0       0.023081  \n",
      "23397         0.0       0.023111  \n",
      "23395         0.0       0.023869  \n",
      "23422        39.0       0.025246  \n",
      "23411         4.0       0.025494  \n",
      "23420        12.0       0.025600  \n"
     ]
    },
    {
     "name": "stderr",
     "output_type": "stream",
     "text": [
      "<ipython-input-84-672b3cb3cdb1>:2: SettingWithCopyWarning: \n",
      "A value is trying to be set on a copy of a slice from a DataFrame\n",
      "\n",
      "See the caveats in the documentation: https://pandas.pydata.org/pandas-docs/stable/user_guide/indexing.html#returning-a-view-versus-a-copy\n",
      "  current.sort_values(by = ['fatality_rate'], ascending = True, inplace = True)\n"
     ]
    }
   ],
   "source": [
    "current = df.loc[df['date'] == '2021-05-02']\n",
    "current.sort_values(by = ['fatality_rate'], ascending = True, inplace = True)\n",
    "print(current)"
   ]
  },
  {
   "cell_type": "code",
   "execution_count": 96,
   "metadata": {},
   "outputs": [
    {
     "name": "stdout",
     "output_type": "stream",
     "text": [
      "                       state  dif_cases        date  fips    cases  deaths  \\\n",
      "12                    Hawaii      354.0  2020-08-13    15     4289      39   \n",
      "10                   Georgia    21349.0  2020-10-05    13   328127    7028   \n",
      "11                      Guam      396.0  2020-11-09    66     6442      91   \n",
      "5                   Colorado     6499.0  2020-11-13     8   155761    2541   \n",
      "16                      Iowa     5489.0  2020-11-13    19   178890    1972   \n",
      "14                  Illinois    15223.0  2020-11-13    17   553083   10907   \n",
      "27                   Montana     1622.0  2020-11-14    30    45919     519   \n",
      "28                  Nebraska     3546.0  2020-11-16    31   101707     810   \n",
      "53                 Wisconsin     8510.0  2020-11-18    55   350665    2939   \n",
      "32                New Mexico     3664.0  2020-11-19    35    74116    1302   \n",
      "17                    Kansas     7301.0  2020-11-23    20   144831    1462   \n",
      "54                   Wyoming     1262.0  2020-11-23    56    29431     202   \n",
      "29                    Nevada     3900.0  2020-11-24    32   140572    2053   \n",
      "47                      Utah     5662.0  2020-11-27    49   190044     849   \n",
      "44              South Dakota     2138.0  2020-11-27    46    78280     888   \n",
      "23                  Michigan    16680.0  2020-11-27    26   369022    9352   \n",
      "24                 Minnesota     9022.0  2020-11-28    27   304082    3580   \n",
      "15                   Indiana     8460.0  2020-12-03    18   362182    6033   \n",
      "21                  Maryland     3796.0  2020-12-04    24   209512    4790   \n",
      "39                    Oregon     2147.0  2020-12-04    41    81441    1004   \n",
      "1                     Alaska      945.0  2020-12-05     2    36083     136   \n",
      "51                Washington     5963.0  2020-12-07    53   191468    3080   \n",
      "37                      Ohio    25721.0  2020-12-08    39   510018    7103   \n",
      "35              North Dakota     2340.0  2020-12-08    38    85688    1064   \n",
      "13                     Idaho     2266.0  2020-12-09    16   116677    1124   \n",
      "40              Pennsylvania    12669.0  2020-12-11    42   475844   12298   \n",
      "46                     Texas    58256.0  2020-12-11    48  1461943   24208   \n",
      "4                 California    64987.0  2020-12-26     6  2129678   24221   \n",
      "34            North Carolina    16719.0  2020-12-26    37   514724    6574   \n",
      "8       District of Columbia      492.0  2020-12-27    11    28202     768   \n",
      "6                Connecticut     8457.0  2020-12-28     9   181200    5904   \n",
      "3                   Arkansas     4304.0  2021-01-01     5   229442    3711   \n",
      "52             West Virginia     2486.0  2021-01-01    54    87820    1361   \n",
      "9                    Florida    31518.0  2021-01-02    12  1354825   21889   \n",
      "45                 Tennessee    16827.0  2021-01-02    47   589406    6908   \n",
      "22             Massachusetts     9003.0  2021-01-02    25   384181   12502   \n",
      "20                     Maine     1044.0  2021-01-02    23    25245     358   \n",
      "18                  Kentucky     6333.0  2021-01-02    21   275803    2999   \n",
      "30             New Hampshire     1266.0  2021-01-03    33    46450     780   \n",
      "2                    Arizona    17222.0  2021-01-03     4   556384    9061   \n",
      "38                  Oklahoma     8017.0  2021-01-03    40   304072    2547   \n",
      "43            South Carolina     8951.0  2021-01-03    45   321669    5469   \n",
      "42              Rhode Island     4759.0  2021-01-04    44    92708    1855   \n",
      "31                New Jersey    51092.0  2021-01-04    34   545155   19244   \n",
      "0                    Alabama     5498.0  2021-01-05     1   379593    4886   \n",
      "19                 Louisiana     6876.0  2021-01-06    22   333524    7681   \n",
      "25               Mississippi     3255.0  2021-01-07    28   231490    5061   \n",
      "7                   Delaware     1220.0  2021-01-07    10    62949     949   \n",
      "41               Puerto Rico     2169.0  2021-01-08    72   115682    1592   \n",
      "49            Virgin Islands      124.0  2021-01-12    78     2166      24   \n",
      "50                  Virginia     9914.0  2021-01-17    51   439305    5729   \n",
      "36  Northern Mariana Islands        8.0  2021-02-21    69      143       2   \n",
      "26                  Missouri    46263.0  2021-03-08    29   574365    8610   \n",
      "33                  New York    20184.0  2021-03-24    36  1814919   49231   \n",
      "48                   Vermont      283.0  2021-03-26    50    18498     224   \n",
      "\n",
      "    dif_deaths  fatality_rate  \n",
      "12         2.0       0.009093  \n",
      "10        29.0       0.021419  \n",
      "11         2.0       0.014126  \n",
      "5         29.0       0.016313  \n",
      "16        25.0       0.011024  \n",
      "14        52.0       0.019720  \n",
      "27        36.0       0.011303  \n",
      "28        14.0       0.007964  \n",
      "53        63.0       0.008381  \n",
      "32        12.0       0.017567  \n",
      "17        52.0       0.010095  \n",
      "54        26.0       0.006864  \n",
      "29        23.0       0.014605  \n",
      "47        15.0       0.004467  \n",
      "44        39.0       0.011344  \n",
      "23       183.0       0.025343  \n",
      "24        45.0       0.011773  \n",
      "15        60.0       0.016657  \n",
      "21        26.0       0.022863  \n",
      "39        30.0       0.012328  \n",
      "1          1.0       0.003769  \n",
      "51        15.0       0.016086  \n",
      "37        80.0       0.013927  \n",
      "35        36.0       0.012417  \n",
      "13        43.0       0.009633  \n",
      "40       232.0       0.025845  \n",
      "46       241.0       0.016559  \n",
      "4        257.0       0.011373  \n",
      "34       154.0       0.012772  \n",
      "8          6.0       0.027232  \n",
      "6        113.0       0.032583  \n",
      "3         35.0       0.016174  \n",
      "52        23.0       0.015498  \n",
      "9        217.0       0.016156  \n",
      "45        62.0       0.011720  \n",
      "22        79.0       0.032542  \n",
      "20        11.0       0.014181  \n",
      "18        43.0       0.010874  \n",
      "30        11.0       0.016792  \n",
      "2          0.0       0.016286  \n",
      "38        20.0       0.008376  \n",
      "43        84.0       0.017002  \n",
      "42        78.0       0.020009  \n",
      "31        36.0       0.035300  \n",
      "0          8.0       0.012872  \n",
      "19        46.0       0.023030  \n",
      "25        48.0       0.021863  \n",
      "7          2.0       0.015076  \n",
      "41         4.0       0.013762  \n",
      "49         1.0       0.011080  \n",
      "50        23.0       0.013041  \n",
      "36         0.0       0.013986  \n",
      "26         2.0       0.014990  \n",
      "33       254.0       0.027126  \n",
      "48         1.0       0.012109  \n"
     ]
    }
   ],
   "source": [
    "df_groupby = df[['dif_cases', 'state']].groupby(by = 'state', as_index = False).max()\n",
    "df_merge = pd.merge(df_groupby, df, on = ['state', 'dif_cases'], how = 'left')\n",
    "df_merge.sort_values(by = ['date'], ascending = True, inplace = True)\n",
    "print(df_merge)"
   ]
  },
  {
   "cell_type": "code",
   "execution_count": 81,
   "metadata": {},
   "outputs": [
    {
     "name": "stdout",
     "output_type": "stream",
     "text": [
      "state\n",
      "Alabama                      5498.0\n",
      "Alaska                        945.0\n",
      "Arizona                     17222.0\n",
      "Arkansas                     4304.0\n",
      "California                  64987.0\n",
      "Colorado                     6499.0\n",
      "Connecticut                  8457.0\n",
      "Delaware                     1220.0\n",
      "District of Columbia          492.0\n",
      "Florida                     31518.0\n",
      "Georgia                     21349.0\n",
      "Guam                          396.0\n",
      "Hawaii                        354.0\n",
      "Idaho                        2266.0\n",
      "Illinois                    15223.0\n",
      "Indiana                      8460.0\n",
      "Iowa                         5489.0\n",
      "Kansas                       7301.0\n",
      "Kentucky                     6333.0\n",
      "Louisiana                    6876.0\n",
      "Maine                        1044.0\n",
      "Maryland                     3796.0\n",
      "Massachusetts                9003.0\n",
      "Michigan                    16680.0\n",
      "Minnesota                    9022.0\n",
      "Mississippi                  3255.0\n",
      "Missouri                    46263.0\n",
      "Montana                      1622.0\n",
      "Nebraska                     3546.0\n",
      "Nevada                       3900.0\n",
      "New Hampshire                1266.0\n",
      "New Jersey                  51092.0\n",
      "New Mexico                   3664.0\n",
      "New York                    20184.0\n",
      "North Carolina              16719.0\n",
      "North Dakota                 2340.0\n",
      "Northern Mariana Islands        8.0\n",
      "Ohio                        25721.0\n",
      "Oklahoma                     8017.0\n",
      "Oregon                       2147.0\n",
      "Pennsylvania                12669.0\n",
      "Puerto Rico                  2169.0\n",
      "Rhode Island                 4759.0\n",
      "South Carolina               8951.0\n",
      "South Dakota                 2138.0\n",
      "Tennessee                   16827.0\n",
      "Texas                       58256.0\n",
      "Utah                         5662.0\n",
      "Vermont                       283.0\n",
      "Virgin Islands                124.0\n",
      "Virginia                     9914.0\n",
      "Washington                   5963.0\n",
      "West Virginia                2486.0\n",
      "Wisconsin                    8510.0\n",
      "Wyoming                      1262.0\n",
      "Name: dif_cases, dtype: float64\n"
     ]
    }
   ],
   "source": [
    "current = df.loc[df['date'] == '2021-05-02']\n",
    "rate_rank = current.groupby(['state'])['dif_cases'].max()\n",
    "print(rate_rank)"
   ]
  },
  {
   "cell_type": "code",
   "execution_count": 85,
   "metadata": {},
   "outputs": [
    {
     "data": {
      "text/plain": [
       "298"
      ]
     },
     "execution_count": 85,
     "metadata": {},
     "output_type": "execute_result"
    }
   ],
   "source": [
    "Alabama = df.loc[df['state'] == 'Alabama']\n",
    "Alabama['dif_cases'].argmax()"
   ]
  },
  {
   "cell_type": "code",
   "execution_count": 53,
   "metadata": {},
   "outputs": [
    {
     "data": {
      "text/html": [
       "<div>\n",
       "<style scoped>\n",
       "    .dataframe tbody tr th:only-of-type {\n",
       "        vertical-align: middle;\n",
       "    }\n",
       "\n",
       "    .dataframe tbody tr th {\n",
       "        vertical-align: top;\n",
       "    }\n",
       "\n",
       "    .dataframe thead th {\n",
       "        text-align: right;\n",
       "    }\n",
       "</style>\n",
       "<table border=\"1\" class=\"dataframe\">\n",
       "  <thead>\n",
       "    <tr style=\"text-align: right;\">\n",
       "      <th></th>\n",
       "      <th>date</th>\n",
       "      <th>state</th>\n",
       "      <th>fips</th>\n",
       "      <th>cases</th>\n",
       "      <th>deaths</th>\n",
       "      <th>dif_cases</th>\n",
       "      <th>dif_deaths</th>\n",
       "    </tr>\n",
       "  </thead>\n",
       "  <tbody>\n",
       "    <tr>\n",
       "      <th>16954</th>\n",
       "      <td>2021-01-05</td>\n",
       "      <td>Alabama</td>\n",
       "      <td>1</td>\n",
       "      <td>379593</td>\n",
       "      <td>4886</td>\n",
       "      <td>5498.0</td>\n",
       "      <td>8.0</td>\n",
       "    </tr>\n",
       "  </tbody>\n",
       "</table>\n",
       "</div>"
      ],
      "text/plain": [
       "             date    state  fips   cases  deaths  dif_cases  dif_deaths\n",
       "16954  2021-01-05  Alabama     1  379593    4886     5498.0         8.0"
      ]
     },
     "execution_count": 53,
     "metadata": {},
     "output_type": "execute_result"
    }
   ],
   "source": [
    "Alabama.iloc[298:299, 0:7]"
   ]
  },
  {
   "cell_type": "code",
   "execution_count": 35,
   "metadata": {},
   "outputs": [
    {
     "name": "stdout",
     "output_type": "stream",
     "text": [
      "           date       state  fips   cases  deaths  dif_cases  dif_deaths\n",
      "0    2020-01-21  Washington    53       1       0        NaN         NaN\n",
      "1    2020-01-22  Washington    53       1       0        0.0         0.0\n",
      "2    2020-01-23  Washington    53       1       0        0.0         0.0\n",
      "3    2020-01-24  Washington    53       1       0        0.0         0.0\n",
      "4    2020-01-25  Washington    53       1       0        0.0         0.0\n",
      "..          ...         ...   ...     ...     ...        ...         ...\n",
      "463  2021-04-28  Washington    53  402049    5522  -255111.0     -5214.0\n",
      "464  2021-04-29  Washington    53  403589    5535  -254752.0     -5216.0\n",
      "465  2021-04-30  Washington    53  404972    5547  -254618.0     -5223.0\n",
      "466  2021-05-01  Washington    53  406546    5547  -254007.0     -5230.0\n",
      "467  2021-05-02  Washington    53  406659    5547  -254655.0     -5244.0\n",
      "\n",
      "[468 rows x 7 columns]\n"
     ]
    },
    {
     "name": "stderr",
     "output_type": "stream",
     "text": [
      "<ipython-input-35-62d2e7bf721e>:4: SettingWithCopyWarning: \n",
      "A value is trying to be set on a copy of a slice from a DataFrame.\n",
      "Try using .loc[row_indexer,col_indexer] = value instead\n",
      "\n",
      "See the caveats in the documentation: https://pandas.pydata.org/pandas-docs/stable/user_guide/indexing.html#returning-a-view-versus-a-copy\n",
      "  Washington['dif_cases'] = Washington['cases'] - Washington['cases'].shift(1)\n",
      "<ipython-input-35-62d2e7bf721e>:5: SettingWithCopyWarning: \n",
      "A value is trying to be set on a copy of a slice from a DataFrame.\n",
      "Try using .loc[row_indexer,col_indexer] = value instead\n",
      "\n",
      "See the caveats in the documentation: https://pandas.pydata.org/pandas-docs/stable/user_guide/indexing.html#returning-a-view-versus-a-copy\n",
      "  Washington['dif_deaths'] = Washington['deaths'] - Washington['deaths'].shift(1)\n"
     ]
    },
    {
     "data": {
      "text/plain": [
       "[<matplotlib.lines.Line2D at 0x7fca79a58dc0>]"
      ]
     },
     "execution_count": 35,
     "metadata": {},
     "output_type": "execute_result"
    },
    {
     "data": {
      "image/png": "[encoded data removed]",
      "text/plain": [
       "<Figure size 432x288 with 2 Axes>"
      ]
     },
     "metadata": {
      "needs_background": "light"
     },
     "output_type": "display_data"
    }
   ],
   "source": [
    "Washington = df.loc[df['state'] == 'Washington']\n",
    "Washington.index = range(len(Washington))\n",
    "print(Washington)\n",
    "Washington['dif_cases'] = Washington['cases'] - Washington['cases'].shift(1)\n",
    "Washington['dif_deaths'] = Washington['deaths'] - Washington['deaths'].shift(1)\n",
    "fig, ax1 = plt.subplots()\n",
    "x = Washington['date']\n",
    "y1 = Washington['dif_cases']\n",
    "y2 = Washington['dif_deaths']\n",
    "ax2 = ax1.twinx()\n",
    "ax1.plot(x, y1, 'g-')\n",
    "ax2.plot(x, y2, 'b-')"
   ]
  },
  {
   "cell_type": "code",
   "execution_count": 24,
   "metadata": {},
   "outputs": [
    {
     "name": "stdout",
     "output_type": "stream",
     "text": [
      "             date   state  fips  cases  deaths\n",
      "539    2020-03-12  Alaska     2      1       0\n",
      "587    2020-03-13  Alaska     2      1       0\n",
      "638    2020-03-14  Alaska     2      1       0\n",
      "690    2020-03-15  Alaska     2      1       0\n",
      "743    2020-03-16  Alaska     2      3       0\n",
      "...           ...     ...   ...    ...     ...\n",
      "23170  2021-04-28  Alaska     2  67290     330\n",
      "23225  2021-04-29  Alaska     2  67458     330\n",
      "23280  2021-04-30  Alaska     2  67598     330\n",
      "23335  2021-05-01  Alaska     2  67598     330\n",
      "23390  2021-05-02  Alaska     2  67598     330\n",
      "\n",
      "[417 rows x 5 columns]\n"
     ]
    },
    {
     "data": {
      "text/plain": [
       "[<matplotlib.lines.Line2D at 0x7fca73697880>]"
      ]
     },
     "execution_count": 24,
     "metadata": {},
     "output_type": "execute_result"
    },
    {
     "data": {
      "image/png": "[encoded data removed]",
      "text/plain": [
       "<Figure size 432x288 with 2 Axes>"
      ]
     },
     "metadata": {
      "needs_background": "light"
     },
     "output_type": "display_data"
    }
   ],
   "source": [
    "Alaska = df.loc[df['state'] == 'Alaska']\n",
    "print(Alaska)\n",
    "fig, ax1 = plt.subplots()\n",
    "x = Alaska['date']\n",
    "y1 = Alaska['cases']\n",
    "y2 = Alaska['deaths']\n",
    "ax2 = ax1.twinx()\n",
    "ax1.plot(x, y1, 'g-')\n",
    "ax2.plot(x, y2, 'b-')"
   ]
  },
  {
   "cell_type": "code",
   "execution_count": 26,
   "metadata": {},
   "outputs": [
    {
     "ename": "KeyError",
     "evalue": "'states'",
     "output_type": "error",
     "traceback": [
      "\u001b[0;31m---------------------------------------------------------------------------\u001b[0m",
      "\u001b[0;31mKeyError\u001b[0m                                  Traceback (most recent call last)",
      "\u001b[0;32m<ipython-input-26-ae7972cb1784>\u001b[0m in \u001b[0;36m<module>\u001b[0;34m\u001b[0m\n\u001b[0;32m----> 1\u001b[0;31m \u001b[0mprint\u001b[0m\u001b[0;34m(\u001b[0m\u001b[0mdf\u001b[0m\u001b[0;34m.\u001b[0m\u001b[0mgroupby\u001b[0m\u001b[0;34m(\u001b[0m\u001b[0;34m'states'\u001b[0m\u001b[0;34m)\u001b[0m\u001b[0;34m)\u001b[0m\u001b[0;34m\u001b[0m\u001b[0;34m\u001b[0m\u001b[0m\n\u001b[0m",
      "\u001b[0;32m~/opt/anaconda3/lib/python3.8/site-packages/pandas/core/frame.py\u001b[0m in \u001b[0;36mgroupby\u001b[0;34m(self, by, axis, level, as_index, sort, group_keys, squeeze, observed, dropna)\u001b[0m\n\u001b[1;32m   6509\u001b[0m         \u001b[0maxis\u001b[0m \u001b[0;34m=\u001b[0m \u001b[0mself\u001b[0m\u001b[0;34m.\u001b[0m\u001b[0m_get_axis_number\u001b[0m\u001b[0;34m(\u001b[0m\u001b[0maxis\u001b[0m\u001b[0;34m)\u001b[0m\u001b[0;34m\u001b[0m\u001b[0;34m\u001b[0m\u001b[0m\n\u001b[1;32m   6510\u001b[0m \u001b[0;34m\u001b[0m\u001b[0m\n\u001b[0;32m-> 6511\u001b[0;31m         return DataFrameGroupBy(\n\u001b[0m\u001b[1;32m   6512\u001b[0m             \u001b[0mobj\u001b[0m\u001b[0;34m=\u001b[0m\u001b[0mself\u001b[0m\u001b[0;34m,\u001b[0m\u001b[0;34m\u001b[0m\u001b[0;34m\u001b[0m\u001b[0m\n\u001b[1;32m   6513\u001b[0m             \u001b[0mkeys\u001b[0m\u001b[0;34m=\u001b[0m\u001b[0mby\u001b[0m\u001b[0;34m,\u001b[0m\u001b[0;34m\u001b[0m\u001b[0;34m\u001b[0m\u001b[0m\n",
      "\u001b[0;32m~/opt/anaconda3/lib/python3.8/site-packages/pandas/core/groupby/groupby.py\u001b[0m in \u001b[0;36m__init__\u001b[0;34m(self, obj, keys, axis, level, grouper, exclusions, selection, as_index, sort, group_keys, squeeze, observed, mutated, dropna)\u001b[0m\n\u001b[1;32m    523\u001b[0m             \u001b[0;32mfrom\u001b[0m \u001b[0mpandas\u001b[0m\u001b[0;34m.\u001b[0m\u001b[0mcore\u001b[0m\u001b[0;34m.\u001b[0m\u001b[0mgroupby\u001b[0m\u001b[0;34m.\u001b[0m\u001b[0mgrouper\u001b[0m \u001b[0;32mimport\u001b[0m \u001b[0mget_grouper\u001b[0m\u001b[0;34m\u001b[0m\u001b[0;34m\u001b[0m\u001b[0m\n\u001b[1;32m    524\u001b[0m \u001b[0;34m\u001b[0m\u001b[0m\n\u001b[0;32m--> 525\u001b[0;31m             grouper, exclusions, obj = get_grouper(\n\u001b[0m\u001b[1;32m    526\u001b[0m                 \u001b[0mobj\u001b[0m\u001b[0;34m,\u001b[0m\u001b[0;34m\u001b[0m\u001b[0;34m\u001b[0m\u001b[0m\n\u001b[1;32m    527\u001b[0m                 \u001b[0mkeys\u001b[0m\u001b[0;34m,\u001b[0m\u001b[0;34m\u001b[0m\u001b[0;34m\u001b[0m\u001b[0m\n",
      "\u001b[0;32m~/opt/anaconda3/lib/python3.8/site-packages/pandas/core/groupby/grouper.py\u001b[0m in \u001b[0;36mget_grouper\u001b[0;34m(obj, key, axis, level, sort, observed, mutated, validate, dropna)\u001b[0m\n\u001b[1;32m    779\u001b[0m                 \u001b[0min_axis\u001b[0m\u001b[0;34m,\u001b[0m \u001b[0mname\u001b[0m\u001b[0;34m,\u001b[0m \u001b[0mlevel\u001b[0m\u001b[0;34m,\u001b[0m \u001b[0mgpr\u001b[0m \u001b[0;34m=\u001b[0m \u001b[0;32mFalse\u001b[0m\u001b[0;34m,\u001b[0m \u001b[0;32mNone\u001b[0m\u001b[0;34m,\u001b[0m \u001b[0mgpr\u001b[0m\u001b[0;34m,\u001b[0m \u001b[0;32mNone\u001b[0m\u001b[0;34m\u001b[0m\u001b[0;34m\u001b[0m\u001b[0m\n\u001b[1;32m    780\u001b[0m             \u001b[0;32melse\u001b[0m\u001b[0;34m:\u001b[0m\u001b[0;34m\u001b[0m\u001b[0;34m\u001b[0m\u001b[0m\n\u001b[0;32m--> 781\u001b[0;31m                 \u001b[0;32mraise\u001b[0m \u001b[0mKeyError\u001b[0m\u001b[0;34m(\u001b[0m\u001b[0mgpr\u001b[0m\u001b[0;34m)\u001b[0m\u001b[0;34m\u001b[0m\u001b[0;34m\u001b[0m\u001b[0m\n\u001b[0m\u001b[1;32m    782\u001b[0m         \u001b[0;32melif\u001b[0m \u001b[0misinstance\u001b[0m\u001b[0;34m(\u001b[0m\u001b[0mgpr\u001b[0m\u001b[0;34m,\u001b[0m \u001b[0mGrouper\u001b[0m\u001b[0;34m)\u001b[0m \u001b[0;32mand\u001b[0m \u001b[0mgpr\u001b[0m\u001b[0;34m.\u001b[0m\u001b[0mkey\u001b[0m \u001b[0;32mis\u001b[0m \u001b[0;32mnot\u001b[0m \u001b[0;32mNone\u001b[0m\u001b[0;34m:\u001b[0m\u001b[0;34m\u001b[0m\u001b[0;34m\u001b[0m\u001b[0m\n\u001b[1;32m    783\u001b[0m             \u001b[0;31m# Add key to exclusions\u001b[0m\u001b[0;34m\u001b[0m\u001b[0;34m\u001b[0m\u001b[0;34m\u001b[0m\u001b[0m\n",
      "\u001b[0;31mKeyError\u001b[0m: 'states'"
     ]
    }
   ],
   "source": [
    "print(df.groupby('states'))"
   ]
  },
  {
   "cell_type": "code",
   "execution_count": null,
   "metadata": {},
   "outputs": [],
   "source": []
  }
 ],
 "metadata": {
  "kernelspec": {
   "display_name": "Python 3",
   "language": "python",
   "name": "python3"
  },
  "language_info": {
   "codemirror_mode": {
    "name": "ipython",
    "version": 3
   },
   "file_extension": ".py",
   "mimetype": "text/x-python",
   "name": "python",
   "nbconvert_exporter": "python",
   "pygments_lexer": "ipython3",
   "version": "3.8.5"
  }
 },
 "nbformat": 4,
 "nbformat_minor": 4
}
