{
 "cells": [
  {
   "cell_type": "code",
   "execution_count": 1,
   "metadata": {},
   "outputs": [
    {
     "data": {
      "text/plain": [
       "'/Users/alphilritch/covid-19-data'"
      ]
     },
     "execution_count": 1,
     "metadata": {},
     "output_type": "execute_result"
    }
   ],
   "source": [
    "import pandas as pd\n",
    "import numpy as np\n",
    "import os\n",
    "import matplotlib.pyplot as plt\n",
    "current_path = os.getcwd()\n",
    "current_path"
   ]
  },
  {
   "cell_type": "code",
   "execution_count": 2,
   "metadata": {},
   "outputs": [
    {
     "name": "stdout",
     "output_type": "stream",
     "text": [
      "           date     cases  deaths\n",
      "0    2020-01-21         1       0\n",
      "1    2020-01-22         1       0\n",
      "2    2020-01-23         1       0\n",
      "3    2020-01-24         2       0\n",
      "4    2020-01-25         3       0\n",
      "..          ...       ...     ...\n",
      "463  2021-04-28  32258020  573900\n",
      "464  2021-04-29  32315986  574777\n",
      "465  2021-04-30  32374368  575635\n",
      "466  2021-05-01  32419050  576337\n",
      "467  2021-05-02  32448586  576636\n",
      "\n",
      "[468 rows x 3 columns]\n"
     ]
    }
   ],
   "source": [
    "data = pd.read_csv('us.csv')\n",
    "print(data)"
   ]
  },
  {
   "cell_type": "code",
   "execution_count": 20,
   "metadata": {},
   "outputs": [
    {
     "name": "stdout",
     "output_type": "stream",
     "text": [
      "         date  cases  deaths\n",
      "0  2020-01-21      1       0\n",
      "1  2020-01-22      1       0\n",
      "2  2020-01-23      1       0\n",
      "3  2020-01-24      2       0\n",
      "4  2020-01-25      3       0\n"
     ]
    }
   ],
   "source": [
    "df = pd.DataFrame(pd.read_csv(\"us.csv\"))\n",
    "print(df.head())"
   ]
  },
  {
   "cell_type": "code",
   "execution_count": 22,
   "metadata": {},
   "outputs": [
    {
     "name": "stdout",
     "output_type": "stream",
     "text": [
      "           date     cases  deaths  dif_cases  dif_deaths\n",
      "0    2020-01-21         1       0        NaN         NaN\n",
      "1    2020-01-22         1       0        0.0         0.0\n",
      "2    2020-01-23         1       0        0.0         0.0\n",
      "3    2020-01-24         2       0        1.0         0.0\n",
      "4    2020-01-25         3       0        1.0         0.0\n",
      "..          ...       ...     ...        ...         ...\n",
      "463  2021-04-28  32258020  573900    54870.0       929.0\n",
      "464  2021-04-29  32315986  574777    57966.0       877.0\n",
      "465  2021-04-30  32374368  575635    58382.0       858.0\n",
      "466  2021-05-01  32419050  576337    44682.0       702.0\n",
      "467  2021-05-02  32448586  576636    29536.0       299.0\n",
      "\n",
      "[468 rows x 5 columns]\n"
     ]
    }
   ],
   "source": [
    "df['dif_cases'] = df['cases'] - df['cases'].shift(1)\n",
    "df['dif_deaths'] = df['deaths'] - df['deaths'].shift(1)\n",
    "print(df)"
   ]
  },
  {
   "cell_type": "code",
   "execution_count": 26,
   "metadata": {},
   "outputs": [
    {
     "name": "stdout",
     "output_type": "stream",
     "text": [
      "353\n"
     ]
    }
   ],
   "source": [
    "df['dif_cases'].argmax()"
   ]
  },
  {
   "cell_type": "code",
   "execution_count": 33,
   "metadata": {},
   "outputs": [
    {
     "data": {
      "text/html": [
       "<div>\n",
       "<style scoped>\n",
       "    .dataframe tbody tr th:only-of-type {\n",
       "        vertical-align: middle;\n",
       "    }\n",
       "\n",
       "    .dataframe tbody tr th {\n",
       "        vertical-align: top;\n",
       "    }\n",
       "\n",
       "    .dataframe thead th {\n",
       "        text-align: right;\n",
       "    }\n",
       "</style>\n",
       "<table border=\"1\" class=\"dataframe\">\n",
       "  <thead>\n",
       "    <tr style=\"text-align: right;\">\n",
       "      <th></th>\n",
       "      <th>date</th>\n",
       "      <th>cases</th>\n",
       "      <th>deaths</th>\n",
       "      <th>dif_cases</th>\n",
       "      <th>dif_deaths</th>\n",
       "    </tr>\n",
       "  </thead>\n",
       "  <tbody>\n",
       "    <tr>\n",
       "      <th>353</th>\n",
       "      <td>2021-01-08</td>\n",
       "      <td>21991447</td>\n",
       "      <td>369402</td>\n",
       "      <td>300669.0</td>\n",
       "      <td>3895.0</td>\n",
       "    </tr>\n",
       "  </tbody>\n",
       "</table>\n",
       "</div>"
      ],
      "text/plain": [
       "           date     cases  deaths  dif_cases  dif_deaths\n",
       "353  2021-01-08  21991447  369402   300669.0      3895.0"
      ]
     },
     "execution_count": 33,
     "metadata": {},
     "output_type": "execute_result"
    }
   ],
   "source": [
    "df.iloc[353:354, 0:5]"
   ]
  },
  {
   "cell_type": "code",
   "execution_count": 16,
   "metadata": {},
   "outputs": [
    {
     "data": {
      "text/plain": [
       "388"
      ]
     },
     "execution_count": 16,
     "metadata": {},
     "output_type": "execute_result"
    }
   ],
   "source": [
    "df['dif_deaths'].argmax()"
   ]
  },
  {
   "cell_type": "code",
   "execution_count": 35,
   "metadata": {},
   "outputs": [
    {
     "data": {
      "text/html": [
       "<div>\n",
       "<style scoped>\n",
       "    .dataframe tbody tr th:only-of-type {\n",
       "        vertical-align: middle;\n",
       "    }\n",
       "\n",
       "    .dataframe tbody tr th {\n",
       "        vertical-align: top;\n",
       "    }\n",
       "\n",
       "    .dataframe thead th {\n",
       "        text-align: right;\n",
       "    }\n",
       "</style>\n",
       "<table border=\"1\" class=\"dataframe\">\n",
       "  <thead>\n",
       "    <tr style=\"text-align: right;\">\n",
       "      <th></th>\n",
       "      <th>date</th>\n",
       "      <th>cases</th>\n",
       "      <th>deaths</th>\n",
       "      <th>dif_cases</th>\n",
       "      <th>dif_deaths</th>\n",
       "    </tr>\n",
       "  </thead>\n",
       "  <tbody>\n",
       "    <tr>\n",
       "      <th>388</th>\n",
       "      <td>2021-02-12</td>\n",
       "      <td>27541997</td>\n",
       "      <td>480701</td>\n",
       "      <td>99653.0</td>\n",
       "      <td>5463.0</td>\n",
       "    </tr>\n",
       "  </tbody>\n",
       "</table>\n",
       "</div>"
      ],
      "text/plain": [
       "           date     cases  deaths  dif_cases  dif_deaths\n",
       "388  2021-02-12  27541997  480701    99653.0      5463.0"
      ]
     },
     "execution_count": 35,
     "metadata": {},
     "output_type": "execute_result"
    }
   ],
   "source": [
    "df.iloc[388:389, 0:5]"
   ]
  },
  {
   "cell_type": "code",
   "execution_count": 23,
   "metadata": {},
   "outputs": [
    {
     "data": {
      "text/plain": [
       "[<matplotlib.lines.Line2D at 0x7fbf9f236310>]"
      ]
     },
     "execution_count": 23,
     "metadata": {},
     "output_type": "execute_result"
    },
    {
     "data": {
      "image/png": "[encoded data removed]",
      "text/plain": [
       "<Figure size 432x288 with 2 Axes>"
      ]
     },
     "metadata": {
      "needs_background": "light"
     },
     "output_type": "display_data"
    }
   ],
   "source": [
    "fig, ax1 = plt.subplots()\n",
    "x = df['date']\n",
    "y1 = df['dif_cases']\n",
    "y2 = df['dif_deaths']\n",
    "ax2 = ax1.twinx()\n",
    "ax1.plot(x, y1, 'g-')\n",
    "ax2.plot(x, y2, 'b-')"
   ]
  },
  {
   "cell_type": "code",
   "execution_count": null,
   "metadata": {},
   "outputs": [],
   "source": []
  }
 ],
 "metadata": {
  "kernelspec": {
   "display_name": "Python 3",
   "language": "python",
   "name": "python3"
  },
  "language_info": {
   "codemirror_mode": {
    "name": "ipython",
    "version": 3
   },
   "file_extension": ".py",
   "mimetype": "text/x-python",
   "name": "python",
   "nbconvert_exporter": "python",
   "pygments_lexer": "ipython3",
   "version": "3.8.5"
  }
 },
 "nbformat": 4,
 "nbformat_minor": 4
}
